{
 "cells": [
  {
   "cell_type": "code",
   "execution_count": 2,
   "metadata": {},
   "outputs": [],
   "source": [
    "%load_ext autoreload\n",
    "%autoreload 2"
   ]
  },
  {
   "cell_type": "code",
   "execution_count": 1,
   "metadata": {},
   "outputs": [
    {
     "name": "stderr",
     "output_type": "stream",
     "text": [
      "/tmp/ipykernel_941874/207539965.py:2: TqdmExperimentalWarning: Using `tqdm.autonotebook.tqdm` in notebook mode. Use `tqdm.tqdm` instead to force console mode (e.g. in jupyter console)\n",
      "  from tqdm.autonotebook import tqdm\n"
     ]
    }
   ],
   "source": [
    "import shapely\n",
    "from tqdm.autonotebook import tqdm\n",
    "import pandas as pd\n",
    "import geopandas as gpd\n",
    "import pathlib\n",
    "import matplotlib.pyplot as plt\n",
    "import numpy as np\n",
    "import seaborn as sns\n",
    "\n",
    "from scipy.stats import linregress\n",
    "from sklearn.model_selection import KFold, RepeatedKFold\n",
    "import statsmodels.api as sm\n",
    "import statsmodels.formula.api as smf\n",
    "\n",
    "from src.processing import gedi_recovery_analysis\n",
    "from src.constants import WGS84\n"
   ]
  },
  {
   "cell_type": "code",
   "execution_count": 61,
   "metadata": {},
   "outputs": [
    {
     "name": "stdout",
     "output_type": "stream",
     "text": [
      "                                                                                                         geometry\n",
      "0  POLYGON ((-55.52820 -5.84940, -55.52820 -4.84940, -56.52820 -4.84940, -56.52820 -5.84940, -55.52820 -5.84940))\n",
      "POLYGON ((-55.5282 -5.8494, -55.5282 -4.8494, -56.5282 -4.8494, -56.5282 -5.8494, -55.5282 -5.8494))\n",
      "POLYGON ((-55.5282 -5.8494, -55.5282 -4.8494, -56.5282 -4.8494, -56.5282 -5.8494, -55.5282 -5.8494))\n",
      "[-56.5282  -5.8494 -55.5282  -4.8494]\n"
     ]
    }
   ],
   "source": [
    "# Years of interest\n",
    "years = range(2019, 2021)\n",
    "\n",
    "# Small sample region of interest\n",
    "lat = -5.3494\n",
    "lon = -56.0282\n",
    "height = 1\n",
    "width = 1\n",
    "sample_roi = shapely.geometry.box(lon - width/2, lat - height/2, lon + height/2, lat + width/2)\n",
    "\n",
    "# Amazon basin shape file\n",
    "shapefile = \"/home/users/ah2174/gedi-biomass-mapping/amazon_border/biome.shp\"\n",
    "\n",
    "sample_roi_series = gpd.GeoSeries([sample_roi], crs=WGS84)\n",
    "sample_roi_df = gpd.GeoDataFrame({'geometry': [sample_roi]}, crs=WGS84)\n",
    "\n",
    "with pd.option_context('display.max_colwidth', None):\n",
    "    print(sample_roi_df)\n",
    "    print(sample_roi_df.to_wkt().values[0][0])\n",
    "    print(sample_roi_series.to_wkt().values[0])\n",
    "    print(*sample_roi_series.bounds.values)\n"
   ]
  },
  {
   "cell_type": "code",
   "execution_count": 77,
   "metadata": {},
   "outputs": [
    {
     "data": {
      "application/vnd.jupyter.widget-view+json": {
       "model_id": "ec379f23f0cd4085bb745e826eced06c",
       "version_major": 2,
       "version_minor": 0
      },
      "text/plain": [
       "  0%|          | 0/2 [00:00<?, ?it/s]"
      ]
     },
     "metadata": {},
     "output_type": "display_data"
    },
    {
     "name": "stdout",
     "output_type": "stream",
     "text": [
      "2021-11-23 19:34:26,288 INFO: Loading GEDI shots for 2019 [in compute_gedi_recovery at /home/users/ah2174/gedi-biomass-mapping/src/processing/gedi_recovery_analysis.py:64]\n",
      "2021-11-23 19:34:34,387 DEBUG: Found 180294 shots in 2019 in the specified geometry [in compute_gedi_recovery at /home/users/ah2174/gedi-biomass-mapping/src/processing/gedi_recovery_analysis.py:79]\n",
      "2021-11-23 19:34:34,388 INFO: Loading JRC data from 1990 to 2019 [in compute_gedi_recovery at /home/users/ah2174/gedi-biomass-mapping/src/processing/gedi_recovery_analysis.py:86]\n"
     ]
    },
    {
     "data": {
      "application/vnd.jupyter.widget-view+json": {
       "model_id": "37475b20bcf74d4f91e7d9341febfaf4",
       "version_major": 2,
       "version_minor": 0
      },
      "text/plain": [
       "  0%|          | 0/30 [00:00<?, ?it/s]"
      ]
     },
     "metadata": {},
     "output_type": "display_data"
    },
    {
     "name": "stdout",
     "output_type": "stream",
     "text": [
      "2021-11-23 19:34:36,759 INFO: Computing recovery period until year 2019 [in compute_gedi_recovery at /home/users/ah2174/gedi-biomass-mapping/src/processing/gedi_recovery_analysis.py:94]\n",
      "2021-11-23 19:34:48,834 INFO: Filtering shots [in overlay_gedi_shots_and_recovery_raster at /home/users/ah2174/gedi-biomass-mapping/src/processing/gedi_recovery_analysis.py:32]\n",
      "2021-11-23 19:34:49,537 INFO: Loading GEDI shots for 2020 [in compute_gedi_recovery at /home/users/ah2174/gedi-biomass-mapping/src/processing/gedi_recovery_analysis.py:64]\n",
      "2021-11-23 19:34:49,791 DEBUG: Found 1182 shots in 2020 in the specified geometry [in compute_gedi_recovery at /home/users/ah2174/gedi-biomass-mapping/src/processing/gedi_recovery_analysis.py:79]\n",
      "2021-11-23 19:34:49,792 INFO: Loading JRC data from 1990 to 2020 [in compute_gedi_recovery at /home/users/ah2174/gedi-biomass-mapping/src/processing/gedi_recovery_analysis.py:86]\n"
     ]
    },
    {
     "data": {
      "application/vnd.jupyter.widget-view+json": {
       "model_id": "50e269a219d64b978a1e2ae2fb1ea885",
       "version_major": 2,
       "version_minor": 0
      },
      "text/plain": [
       "  0%|          | 0/31 [00:00<?, ?it/s]"
      ]
     },
     "metadata": {},
     "output_type": "display_data"
    },
    {
     "name": "stdout",
     "output_type": "stream",
     "text": [
      "2021-11-23 19:34:52,369 INFO: Computing recovery period until year 2020 [in compute_gedi_recovery at /home/users/ah2174/gedi-biomass-mapping/src/processing/gedi_recovery_analysis.py:94]\n",
      "2021-11-23 19:35:02,530 INFO: Filtering shots [in overlay_gedi_shots_and_recovery_raster at /home/users/ah2174/gedi-biomass-mapping/src/processing/gedi_recovery_analysis.py:32]\n",
      "2021-11-23 19:35:02,533 WARNING: No shots found overlapping with JRC recovery data in 2020 [in compute_gedi_recovery at /home/users/ah2174/gedi-biomass-mapping/src/processing/gedi_recovery_analysis.py:102]\n",
      "           shot_number  recovery_period  overlap_quality   rh95\n",
      "0    20870200100082732             10.0                0  19.88\n",
      "1    37670000100082866              6.0                1  15.54\n",
      "2    37670100100081940              6.0                1  15.54\n",
      "3    27440300100081125              3.0                2  12.66\n",
      "4    37670100100081925              7.0                1  13.37\n",
      "..                 ...              ...              ...    ...\n",
      "959  46980800100081111              3.0                0  14.80\n",
      "960  46980800100081112              3.0                0  16.71\n",
      "961  46981100100079728              6.0                0  10.32\n",
      "962  55220000100081238             31.0                0  18.91\n",
      "963  55220000100081239             20.0                0  16.78\n",
      "\n",
      "[964 rows x 4 columns]\n"
     ]
    }
   ],
   "source": [
    "dfs = []\n",
    "for year in tqdm(years):\n",
    "    gedi_df = gedi_recovery_analysis.compute_gedi_recovery(sample_roi_series, year)\n",
    "    dfs.append(gedi_df)\n",
    "\n",
    "gedi_data = pd.concat(dfs, ignore_index=True)\n",
    "print(gedi_data)"
   ]
  },
  {
   "cell_type": "code",
   "execution_count": 78,
   "metadata": {},
   "outputs": [
    {
     "data": {
      "text/plain": [
       "139"
      ]
     },
     "execution_count": 78,
     "metadata": {},
     "output_type": "execute_result"
    }
   ],
   "source": [
    "quality_gedi = gedi_data[(gedi_data.overlap_quality != 0) & (gedi_data.recovery_period >= 3) & (gedi_data.recovery_period <= 22)] \n",
    "len(quality_gedi)"
   ]
  },
  {
   "cell_type": "code",
   "execution_count": 80,
   "metadata": {},
   "outputs": [],
   "source": [
    "lin_rh95 = linregress(quality_gedi.recovery_period, quality_gedi.rh95)"
   ]
  },
  {
   "cell_type": "code",
   "execution_count": 81,
   "metadata": {},
   "outputs": [
    {
     "data": {
      "text/plain": [
       "Text(0.2, 25.2, 'R-value: 0.33\\nslope: 0.35 m/yr\\nintercept: 11.73 m')"
      ]
     },
     "execution_count": 81,
     "metadata": {},
     "output_type": "execute_result"
    },
    {
     "data": {
      "image/png": "[encoded data removed]",
      "text/plain": [
       "<Figure size 1080x720 with 1 Axes>"
      ]
     },
     "metadata": {
      "needs_background": "light"
     },
     "output_type": "display_data"
    }
   ],
   "source": [
    "plt.figure(1, (15,10))\n",
    "ax = sns.boxplot(x=\"recovery_period\", y=\"rh95\", data=quality_gedi)\n",
    "ax.set_ylabel(\"GEDI rh95 (m)\")\n",
    "xs = range(0, 20)\n",
    "ax.plot(xs, lin_rh95.intercept + lin_rh95.slope * xs, 'r')\n",
    "text_label = (\n",
    "    \"R-value: {0:.2f}\\n\"\n",
    "    \"slope: {1:.2f} m/yr\\n\"\n",
    "    \"intercept: {2:.2f} m\").format(\n",
    "        lin_rh95.rvalue, lin_rh95.slope, lin_rh95.intercept)\n",
    "ax.text(x=0.2, y=25.2, s=text_label)"
   ]
  },
  {
   "cell_type": "code",
   "execution_count": 23,
   "metadata": {},
   "outputs": [
    {
     "name": "stdout",
     "output_type": "stream",
     "text": [
      "Found 104 paisangenslidar survey folders\n"
     ]
    }
   ],
   "source": [
    "PAISAGENSLIDAR_PATH = SCRATCH_PATH / \"Paisagenslidar\" / \"processed\"\n",
    "paisagenslidar_surveys = [\n",
    "    survey\n",
    "    for survey in PAISAGENSLIDAR_PATH.glob(\"*/*\")\n",
    "    if (survey / \"grid_metrics\").exists() and any((survey / \"grid_metrics\").iterdir())\n",
    "]\n",
    "\n",
    "\n",
    "print(\"Found {} paisangenslidar survey folders\".format(\n",
    "    len(paisagenslidar_surveys)))\n"
   ]
  },
  {
   "cell_type": "markdown",
   "metadata": {},
   "source": [
    "## Run recovery analysis jobs with\n",
    "\n",
    "```\n",
    "$ python3 src/processing/recovery_analysis_jobs.py --dataset=EBA --save_path=$SAVE_PATH --save_every=n --read_checkpoints=True\n",
    "```\n",
    "This script checkpoints every n records and can be restarted from saved checkpoint state.\n",
    "Final results are saved in $SAVE_PATH/all.feather"
   ]
  },
  {
   "cell_type": "code",
   "execution_count": 3,
   "metadata": {},
   "outputs": [
    {
     "data": {
      "text/html": [
       "<div>\n",
       "<style scoped>\n",
       "    .dataframe tbody tr th:only-of-type {\n",
       "        vertical-align: middle;\n",
       "    }\n",
       "\n",
       "    .dataframe tbody tr th {\n",
       "        vertical-align: top;\n",
       "    }\n",
       "\n",
       "    .dataframe thead th {\n",
       "        text-align: right;\n",
       "    }\n",
       "</style>\n",
       "<table border=\"1\" class=\"dataframe\">\n",
       "  <thead>\n",
       "    <tr style=\"text-align: right;\">\n",
       "      <th></th>\n",
       "      <th>recovery_period</th>\n",
       "      <th>overlap_quality</th>\n",
       "      <th>chm_mean</th>\n",
       "      <th>chm_min</th>\n",
       "      <th>chm_max</th>\n",
       "      <th>chm_med</th>\n",
       "      <th>chm_mode</th>\n",
       "      <th>chm_q1</th>\n",
       "      <th>chm_q3</th>\n",
       "      <th>mean</th>\n",
       "      <th>...</th>\n",
       "      <th>x_coord</th>\n",
       "      <th>y_coord</th>\n",
       "      <th>x_index</th>\n",
       "      <th>y_index</th>\n",
       "      <th>acd_longo2016</th>\n",
       "      <th>acd_asner2014</th>\n",
       "      <th>acd_asner2014c</th>\n",
       "      <th>survey</th>\n",
       "      <th>survey_year</th>\n",
       "      <th>crs</th>\n",
       "    </tr>\n",
       "  </thead>\n",
       "  <tbody>\n",
       "    <tr>\n",
       "      <th>0</th>\n",
       "      <td>6</td>\n",
       "      <td>0</td>\n",
       "      <td>12.169973</td>\n",
       "      <td>-0.000</td>\n",
       "      <td>23.982000</td>\n",
       "      <td>12.164000</td>\n",
       "      <td>-0.000000</td>\n",
       "      <td>7.921</td>\n",
       "      <td>16.405001</td>\n",
       "      <td>10.432463</td>\n",
       "      <td>...</td>\n",
       "      <td>622525.0</td>\n",
       "      <td>119775.0</td>\n",
       "      <td>152</td>\n",
       "      <td>64</td>\n",
       "      <td>43.903941</td>\n",
       "      <td>73.941166</td>\n",
       "      <td>49.981701</td>\n",
       "      <td>NP_T-0001</td>\n",
       "      <td>2016</td>\n",
       "      <td>+init=epsg:32620</td>\n",
       "    </tr>\n",
       "    <tr>\n",
       "      <th>1</th>\n",
       "      <td>1</td>\n",
       "      <td>0</td>\n",
       "      <td>9.801308</td>\n",
       "      <td>-0.000</td>\n",
       "      <td>16.209999</td>\n",
       "      <td>10.739000</td>\n",
       "      <td>-0.000000</td>\n",
       "      <td>9.047</td>\n",
       "      <td>11.952000</td>\n",
       "      <td>8.219606</td>\n",
       "      <td>...</td>\n",
       "      <td>539225.0</td>\n",
       "      <td>9974375.0</td>\n",
       "      <td>257</td>\n",
       "      <td>80</td>\n",
       "      <td>29.995330</td>\n",
       "      <td>60.171794</td>\n",
       "      <td>37.983337</td>\n",
       "      <td>NP_T-0007</td>\n",
       "      <td>2016</td>\n",
       "      <td>+init=epsg:5355</td>\n",
       "    </tr>\n",
       "    <tr>\n",
       "      <th>2</th>\n",
       "      <td>12</td>\n",
       "      <td>0</td>\n",
       "      <td>15.419527</td>\n",
       "      <td>1.402</td>\n",
       "      <td>21.429001</td>\n",
       "      <td>16.025999</td>\n",
       "      <td>14.935000</td>\n",
       "      <td>13.847</td>\n",
       "      <td>17.830000</td>\n",
       "      <td>12.990663</td>\n",
       "      <td>...</td>\n",
       "      <td>539825.0</td>\n",
       "      <td>9974225.0</td>\n",
       "      <td>269</td>\n",
       "      <td>83</td>\n",
       "      <td>66.588436</td>\n",
       "      <td>92.626278</td>\n",
       "      <td>67.477414</td>\n",
       "      <td>NP_T-0007</td>\n",
       "      <td>2016</td>\n",
       "      <td>+init=epsg:5355</td>\n",
       "    </tr>\n",
       "    <tr>\n",
       "      <th>3</th>\n",
       "      <td>32</td>\n",
       "      <td>0</td>\n",
       "      <td>14.145414</td>\n",
       "      <td>-0.000</td>\n",
       "      <td>26.229000</td>\n",
       "      <td>14.906000</td>\n",
       "      <td>-0.000000</td>\n",
       "      <td>9.440</td>\n",
       "      <td>19.367001</td>\n",
       "      <td>12.160220</td>\n",
       "      <td>...</td>\n",
       "      <td>557675.0</td>\n",
       "      <td>181525.0</td>\n",
       "      <td>17</td>\n",
       "      <td>34</td>\n",
       "      <td>57.210711</td>\n",
       "      <td>85.325078</td>\n",
       "      <td>60.486370</td>\n",
       "      <td>NP_T-0008</td>\n",
       "      <td>2016</td>\n",
       "      <td>+init=epsg:3180</td>\n",
       "    </tr>\n",
       "    <tr>\n",
       "      <th>4</th>\n",
       "      <td>12</td>\n",
       "      <td>0</td>\n",
       "      <td>6.733549</td>\n",
       "      <td>-0.000</td>\n",
       "      <td>23.556999</td>\n",
       "      <td>5.942000</td>\n",
       "      <td>-0.000000</td>\n",
       "      <td>1.417</td>\n",
       "      <td>10.700000</td>\n",
       "      <td>5.148651</td>\n",
       "      <td>...</td>\n",
       "      <td>557375.0</td>\n",
       "      <td>181375.0</td>\n",
       "      <td>11</td>\n",
       "      <td>37</td>\n",
       "      <td>15.491847</td>\n",
       "      <td>42.089994</td>\n",
       "      <td>23.595314</td>\n",
       "      <td>NP_T-0008</td>\n",
       "      <td>2016</td>\n",
       "      <td>+init=epsg:3180</td>\n",
       "    </tr>\n",
       "    <tr>\n",
       "      <th>...</th>\n",
       "      <td>...</td>\n",
       "      <td>...</td>\n",
       "      <td>...</td>\n",
       "      <td>...</td>\n",
       "      <td>...</td>\n",
       "      <td>...</td>\n",
       "      <td>...</td>\n",
       "      <td>...</td>\n",
       "      <td>...</td>\n",
       "      <td>...</td>\n",
       "      <td>...</td>\n",
       "      <td>...</td>\n",
       "      <td>...</td>\n",
       "      <td>...</td>\n",
       "      <td>...</td>\n",
       "      <td>...</td>\n",
       "      <td>...</td>\n",
       "      <td>...</td>\n",
       "      <td>...</td>\n",
       "      <td>...</td>\n",
       "      <td>...</td>\n",
       "    </tr>\n",
       "    <tr>\n",
       "      <th>37284</th>\n",
       "      <td>14</td>\n",
       "      <td>0</td>\n",
       "      <td>13.887091</td>\n",
       "      <td>0.002</td>\n",
       "      <td>24.339001</td>\n",
       "      <td>14.097000</td>\n",
       "      <td>15.546000</td>\n",
       "      <td>11.897</td>\n",
       "      <td>16.200001</td>\n",
       "      <td>11.492064</td>\n",
       "      <td>...</td>\n",
       "      <td>785875.0</td>\n",
       "      <td>8689075.0</td>\n",
       "      <td>14</td>\n",
       "      <td>224</td>\n",
       "      <td>55.384673</td>\n",
       "      <td>83.841010</td>\n",
       "      <td>59.088959</td>\n",
       "      <td>NP_T-2005</td>\n",
       "      <td>2017</td>\n",
       "      <td>+init=epsg:5357</td>\n",
       "    </tr>\n",
       "    <tr>\n",
       "      <th>37285</th>\n",
       "      <td>6</td>\n",
       "      <td>0</td>\n",
       "      <td>19.361275</td>\n",
       "      <td>2.778</td>\n",
       "      <td>27.580000</td>\n",
       "      <td>20.089001</td>\n",
       "      <td>17.472000</td>\n",
       "      <td>17.226</td>\n",
       "      <td>21.846001</td>\n",
       "      <td>16.134771</td>\n",
       "      <td>...</td>\n",
       "      <td>786075.0</td>\n",
       "      <td>8688825.0</td>\n",
       "      <td>18</td>\n",
       "      <td>229</td>\n",
       "      <td>99.402546</td>\n",
       "      <td>115.040746</td>\n",
       "      <td>90.060915</td>\n",
       "      <td>NP_T-2005</td>\n",
       "      <td>2017</td>\n",
       "      <td>+init=epsg:5357</td>\n",
       "    </tr>\n",
       "    <tr>\n",
       "      <th>37286</th>\n",
       "      <td>6</td>\n",
       "      <td>0</td>\n",
       "      <td>17.014893</td>\n",
       "      <td>4.326</td>\n",
       "      <td>29.087000</td>\n",
       "      <td>16.980000</td>\n",
       "      <td>12.033000</td>\n",
       "      <td>13.707</td>\n",
       "      <td>19.820000</td>\n",
       "      <td>14.114271</td>\n",
       "      <td>...</td>\n",
       "      <td>785625.0</td>\n",
       "      <td>8688575.0</td>\n",
       "      <td>9</td>\n",
       "      <td>234</td>\n",
       "      <td>79.186869</td>\n",
       "      <td>101.727877</td>\n",
       "      <td>76.451204</td>\n",
       "      <td>NP_T-2005</td>\n",
       "      <td>2017</td>\n",
       "      <td>+init=epsg:5357</td>\n",
       "    </tr>\n",
       "    <tr>\n",
       "      <th>37287</th>\n",
       "      <td>3</td>\n",
       "      <td>0</td>\n",
       "      <td>17.381344</td>\n",
       "      <td>1.228</td>\n",
       "      <td>27.186001</td>\n",
       "      <td>17.871000</td>\n",
       "      <td>16.488001</td>\n",
       "      <td>15.064</td>\n",
       "      <td>20.445999</td>\n",
       "      <td>14.423192</td>\n",
       "      <td>...</td>\n",
       "      <td>785675.0</td>\n",
       "      <td>8688125.0</td>\n",
       "      <td>10</td>\n",
       "      <td>243</td>\n",
       "      <td>82.212993</td>\n",
       "      <td>103.812565</td>\n",
       "      <td>78.545341</td>\n",
       "      <td>NP_T-2005</td>\n",
       "      <td>2017</td>\n",
       "      <td>+init=epsg:5357</td>\n",
       "    </tr>\n",
       "    <tr>\n",
       "      <th>37288</th>\n",
       "      <td>6</td>\n",
       "      <td>0</td>\n",
       "      <td>14.434672</td>\n",
       "      <td>0.649</td>\n",
       "      <td>27.450001</td>\n",
       "      <td>14.846000</td>\n",
       "      <td>9.058000</td>\n",
       "      <td>10.043</td>\n",
       "      <td>18.438000</td>\n",
       "      <td>11.434659</td>\n",
       "      <td>...</td>\n",
       "      <td>785675.0</td>\n",
       "      <td>8688075.0</td>\n",
       "      <td>10</td>\n",
       "      <td>244</td>\n",
       "      <td>59.285701</td>\n",
       "      <td>86.985321</td>\n",
       "      <td>62.059260</td>\n",
       "      <td>NP_T-2005</td>\n",
       "      <td>2017</td>\n",
       "      <td>+init=epsg:5357</td>\n",
       "    </tr>\n",
       "  </tbody>\n",
       "</table>\n",
       "<p>37289 rows × 29 columns</p>\n",
       "</div>"
      ],
      "text/plain": [
       "       recovery_period  overlap_quality   chm_mean  chm_min    chm_max  \\\n",
       "0                    6                0  12.169973   -0.000  23.982000   \n",
       "1                    1                0   9.801308   -0.000  16.209999   \n",
       "2                   12                0  15.419527    1.402  21.429001   \n",
       "3                   32                0  14.145414   -0.000  26.229000   \n",
       "4                   12                0   6.733549   -0.000  23.556999   \n",
       "...                ...              ...        ...      ...        ...   \n",
       "37284               14                0  13.887091    0.002  24.339001   \n",
       "37285                6                0  19.361275    2.778  27.580000   \n",
       "37286                6                0  17.014893    4.326  29.087000   \n",
       "37287                3                0  17.381344    1.228  27.186001   \n",
       "37288                6                0  14.434672    0.649  27.450001   \n",
       "\n",
       "         chm_med   chm_mode  chm_q1     chm_q3       mean  ...   x_coord  \\\n",
       "0      12.164000  -0.000000   7.921  16.405001  10.432463  ...  622525.0   \n",
       "1      10.739000  -0.000000   9.047  11.952000   8.219606  ...  539225.0   \n",
       "2      16.025999  14.935000  13.847  17.830000  12.990663  ...  539825.0   \n",
       "3      14.906000  -0.000000   9.440  19.367001  12.160220  ...  557675.0   \n",
       "4       5.942000  -0.000000   1.417  10.700000   5.148651  ...  557375.0   \n",
       "...          ...        ...     ...        ...        ...  ...       ...   \n",
       "37284  14.097000  15.546000  11.897  16.200001  11.492064  ...  785875.0   \n",
       "37285  20.089001  17.472000  17.226  21.846001  16.134771  ...  786075.0   \n",
       "37286  16.980000  12.033000  13.707  19.820000  14.114271  ...  785625.0   \n",
       "37287  17.871000  16.488001  15.064  20.445999  14.423192  ...  785675.0   \n",
       "37288  14.846000   9.058000  10.043  18.438000  11.434659  ...  785675.0   \n",
       "\n",
       "         y_coord  x_index  y_index  acd_longo2016  acd_asner2014  \\\n",
       "0       119775.0      152       64      43.903941      73.941166   \n",
       "1      9974375.0      257       80      29.995330      60.171794   \n",
       "2      9974225.0      269       83      66.588436      92.626278   \n",
       "3       181525.0       17       34      57.210711      85.325078   \n",
       "4       181375.0       11       37      15.491847      42.089994   \n",
       "...          ...      ...      ...            ...            ...   \n",
       "37284  8689075.0       14      224      55.384673      83.841010   \n",
       "37285  8688825.0       18      229      99.402546     115.040746   \n",
       "37286  8688575.0        9      234      79.186869     101.727877   \n",
       "37287  8688125.0       10      243      82.212993     103.812565   \n",
       "37288  8688075.0       10      244      59.285701      86.985321   \n",
       "\n",
       "       acd_asner2014c     survey  survey_year               crs  \n",
       "0           49.981701  NP_T-0001         2016  +init=epsg:32620  \n",
       "1           37.983337  NP_T-0007         2016   +init=epsg:5355  \n",
       "2           67.477414  NP_T-0007         2016   +init=epsg:5355  \n",
       "3           60.486370  NP_T-0008         2016   +init=epsg:3180  \n",
       "4           23.595314  NP_T-0008         2016   +init=epsg:3180  \n",
       "...               ...        ...          ...               ...  \n",
       "37284       59.088959  NP_T-2005         2017   +init=epsg:5357  \n",
       "37285       90.060915  NP_T-2005         2017   +init=epsg:5357  \n",
       "37286       76.451204  NP_T-2005         2017   +init=epsg:5357  \n",
       "37287       78.545341  NP_T-2005         2017   +init=epsg:5357  \n",
       "37288       62.059260  NP_T-2005         2017   +init=epsg:5357  \n",
       "\n",
       "[37289 rows x 29 columns]"
      ]
     },
     "execution_count": 3,
     "metadata": {},
     "output_type": "execute_result"
    }
   ],
   "source": [
    "SAVE_PATH = pathlib.Path(\"/gws/nopw/j04/forecol/ah2174/biomass_recovery/EBA\")\n",
    "eba_data = pd.read_feather(SAVE_PATH / \"all.feather\")\n",
    "eba_data"
   ]
  },
  {
   "cell_type": "code",
   "execution_count": 4,
   "metadata": {},
   "outputs": [
    {
     "ename": "NameError",
     "evalue": "name 'eba_data' is not defined",
     "output_type": "error",
     "traceback": [
      "\u001b[0;31m---------------------------------------------------------------------------\u001b[0m",
      "\u001b[0;31mNameError\u001b[0m                                 Traceback (most recent call last)",
      "\u001b[0;32m/tmp/ipykernel_629469/2249039709.py\u001b[0m in \u001b[0;36m<module>\u001b[0;34m\u001b[0m\n\u001b[0;32m----> 1\u001b[0;31m \u001b[0mquality_eba\u001b[0m \u001b[0;34m=\u001b[0m \u001b[0meba_data\u001b[0m\u001b[0;34m[\u001b[0m\u001b[0;34m(\u001b[0m\u001b[0meba_data\u001b[0m\u001b[0;34m.\u001b[0m\u001b[0moverlap_quality\u001b[0m \u001b[0;34m!=\u001b[0m \u001b[0;36m0\u001b[0m\u001b[0;34m)\u001b[0m \u001b[0;34m&\u001b[0m \u001b[0;34m(\u001b[0m\u001b[0meba_data\u001b[0m\u001b[0;34m.\u001b[0m\u001b[0mrecovery_period\u001b[0m \u001b[0;34m>=\u001b[0m \u001b[0;36m3\u001b[0m\u001b[0;34m)\u001b[0m \u001b[0;34m&\u001b[0m \u001b[0;34m(\u001b[0m\u001b[0meba_data\u001b[0m\u001b[0;34m.\u001b[0m\u001b[0mrecovery_period\u001b[0m \u001b[0;34m<=\u001b[0m \u001b[0;36m22\u001b[0m\u001b[0;34m)\u001b[0m\u001b[0;34m]\u001b[0m\u001b[0;34m\u001b[0m\u001b[0;34m\u001b[0m\u001b[0m\n\u001b[0m\u001b[1;32m      2\u001b[0m \u001b[0mlen\u001b[0m\u001b[0;34m(\u001b[0m\u001b[0mquality_eba\u001b[0m\u001b[0;34m)\u001b[0m\u001b[0;34m\u001b[0m\u001b[0;34m\u001b[0m\u001b[0m\n",
      "\u001b[0;31mNameError\u001b[0m: name 'eba_data' is not defined"
     ]
    }
   ],
   "source": [
    "quality_eba = eba_data[(eba_data.overlap_quality != 0) & (eba_data.recovery_period >= 3) & (eba_data.recovery_period <= 22)] \n",
    "len(quality_eba)"
   ]
  },
  {
   "cell_type": "code",
   "execution_count": 5,
   "metadata": {},
   "outputs": [],
   "source": [
    "lin_chm_med = linregress(quality_eba.recovery_period, quality_eba.chm_med)\n",
    "lin_acd_longo2016 = linregress(quality_eba.recovery_period, quality_eba.acd_longo2016)\n",
    "lin_acd_asner2014 = linregress(quality_eba.recovery_period, quality_eba.acd_asner2014)\n"
   ]
  },
  {
   "cell_type": "code",
   "execution_count": 12,
   "metadata": {},
   "outputs": [
    {
     "data": {
      "text/plain": [
       "Text(0.2, 25.2, 'R-score: 0.38\\nslope: 0.24 m/yr\\nintercept: 6.75 m')"
      ]
     },
     "execution_count": 12,
     "metadata": {},
     "output_type": "execute_result"
    },
    {
     "data": {
      "image/png": "[encoded data removed]",
      "text/plain": [
       "<Figure size 1080x720 with 1 Axes>"
      ]
     },
     "metadata": {
      "needs_background": "light"
     },
     "output_type": "display_data"
    }
   ],
   "source": [
    "plt.figure(1, (15,10))\n",
    "ax = sns.boxplot(x=\"recovery_period\", y=\"chm_med\", data=quality_eba)\n",
    "ax.set_ylabel(\"EBA Canopy height median (m)\")\n",
    "xs = range(0, 20)\n",
    "ax.plot(xs, lin_chm_med.intercept + lin_chm_med.slope * xs, 'r')\n",
    "text_label = (\n",
    "    \"R-score: {0:.2f}\\n\"\n",
    "    \"slope: {1:.2f} m/yr\\n\"\n",
    "    \"intercept: {2:.2f} m\").format(\n",
    "        lin_chm_med.rvalue, lin_chm_med.slope, lin_chm_med.intercept)\n",
    "ax.text(x=0.2, y=25.2, s=text_label)"
   ]
  },
  {
   "cell_type": "code",
   "execution_count": 11,
   "metadata": {},
   "outputs": [
    {
     "data": {
      "text/plain": [
       "Text(0.2, 150, 'R-value: 0.35\\nslope: 1.20 MgC/ha/yr\\nintercept: 16.74 MgC/ha')"
      ]
     },
     "execution_count": 11,
     "metadata": {},
     "output_type": "execute_result"
    },
    {
     "data": {
      "image/png": "[encoded data removed]",
      "text/plain": [
       "<Figure size 1080x720 with 1 Axes>"
      ]
     },
     "metadata": {
      "needs_background": "light"
     },
     "output_type": "display_data"
    }
   ],
   "source": [
    "plt.figure(2, (15,10))\n",
    "ax = sns.boxplot(x=\"recovery_period\", y=\"acd_longo2016\", data=quality_eba)\n",
    "ax.set_ylabel(\"Longo (2016) Aboveground Carbon Density (MgC/ha)\")\n",
    "xs = range(0, 20)\n",
    "ax.plot(xs, lin_acd_longo2016.intercept + lin_acd_longo2016.slope * xs, 'r')\n",
    "text_label = (\n",
    "    \"R-score: {0:.2f}\\n\"\n",
    "    \"slope: {1:.2f} MgC/ha/yr\\n\"\n",
    "    \"intercept: {2:.2f} MgC/ha\").format(\n",
    "        lin_acd_longo2016.rvalue, lin_acd_longo2016.slope, lin_acd_longo2016.intercept)\n",
    "ax.text(x=0.2, y=150, s=text_label)"
   ]
  }
 ],
 "metadata": {
  "interpreter": {
   "hash": "397f412a813fb9f3f6c406e936c97077bb2282cc8f40a861a09759535754f484"
  },
  "kernelspec": {
   "display_name": "Python 3.9.7 64-bit ('biomass': conda)",
   "language": "python",
   "name": "python3"
  },
  "language_info": {
   "codemirror_mode": {
    "name": "ipython",
    "version": 3
   },
   "file_extension": ".py",
   "mimetype": "text/x-python",
   "name": "python",
   "nbconvert_exporter": "python",
   "pygments_lexer": "ipython3",
   "version": "3.9.7"
  },
  "orig_nbformat": 4
 },
 "nbformat": 4,
 "nbformat_minor": 2
}
